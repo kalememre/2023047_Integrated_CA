{
 "cells": [
  {
   "cell_type": "code",
   "execution_count": 1,
   "id": "dc3ea4cd",
   "metadata": {},
   "outputs": [
    {
     "data": {
      "text/html": [
       "\n",
       "        <div>\n",
       "            <p><b>SparkContext</b></p>\n",
       "\n",
       "            <p><a href=\"http://172.16.12.129:4040\">Spark UI</a></p>\n",
       "\n",
       "            <dl>\n",
       "              <dt>Version</dt>\n",
       "                <dd><code>v3.2.4</code></dd>\n",
       "              <dt>Master</dt>\n",
       "                <dd><code>local[*]</code></dd>\n",
       "              <dt>AppName</dt>\n",
       "                <dd><code>PySparkShell</code></dd>\n",
       "            </dl>\n",
       "        </div>\n",
       "        "
      ],
      "text/plain": [
       "<SparkContext master=local[*] appName=PySparkShell>"
      ]
     },
     "execution_count": 1,
     "metadata": {},
     "output_type": "execute_result"
    }
   ],
   "source": [
    "sc"
   ]
  },
  {
   "cell_type": "code",
   "execution_count": 2,
   "id": "146e025c",
   "metadata": {},
   "outputs": [],
   "source": [
    "spark = SparkSession.builder.appName('deep_learning').getOrCreate()"
   ]
  },
  {
   "cell_type": "code",
   "execution_count": 4,
   "id": "259c1dd8",
   "metadata": {},
   "outputs": [
    {
     "name": "stderr",
     "output_type": "stream",
     "text": [
      "                                                                                \r"
     ]
    }
   ],
   "source": [
    "# Load the dl_data.csv into hadoop in the named folder 'user1'\n",
    "\n",
    "df = spark.read.csv('/user1/fer2013.csv', header=True, inferSchema=True)"
   ]
  },
  {
   "cell_type": "code",
   "execution_count": 5,
   "id": "69b31830",
   "metadata": {},
   "outputs": [
    {
     "name": "stdout",
     "output_type": "stream",
     "text": [
      "root\n",
      " |-- emotion: integer (nullable = true)\n",
      " |-- pixels: string (nullable = true)\n",
      " |-- Usage: string (nullable = true)\n",
      "\n"
     ]
    }
   ],
   "source": [
    "# Display the structure of schema\n",
    "df.printSchema()"
   ]
  },
  {
   "cell_type": "code",
   "execution_count": 6,
   "id": "a1c115b3",
   "metadata": {},
   "outputs": [
    {
     "name": "stdout",
     "output_type": "stream",
     "text": [
      "+-------+--------------------+--------+\n",
      "|emotion|              pixels|   Usage|\n",
      "+-------+--------------------+--------+\n",
      "|      0|70 80 82 72 58 58...|Training|\n",
      "|      0|151 150 147 155 1...|Training|\n",
      "|      2|231 212 156 164 1...|Training|\n",
      "|      4|24 32 36 30 32 23...|Training|\n",
      "|      6|4 0 0 0 0 0 0 0 0...|Training|\n",
      "+-------+--------------------+--------+\n",
      "only showing top 5 rows\n",
      "\n"
     ]
    }
   ],
   "source": [
    "df.show(5)"
   ]
  },
  {
   "cell_type": "code",
   "execution_count": 7,
   "id": "e450134c",
   "metadata": {},
   "outputs": [
    {
     "name": "stderr",
     "output_type": "stream",
     "text": [
      "\r",
      "[Stage 3:>                                                          (0 + 2) / 3]\r"
     ]
    },
    {
     "name": "stdout",
     "output_type": "stream",
     "text": [
      "Shape of dataset: (35887, 3)\n"
     ]
    },
    {
     "name": "stderr",
     "output_type": "stream",
     "text": [
      "\r",
      "                                                                                \r"
     ]
    }
   ],
   "source": [
    "# print of data shape\n",
    "print('Shape of dataset:',(df.count(),len(df.columns)))"
   ]
  },
  {
   "cell_type": "code",
   "execution_count": 8,
   "id": "169188c5",
   "metadata": {
    "scrolled": true
   },
   "outputs": [
    {
     "name": "stderr",
     "output_type": "stream",
     "text": [
      "[Stage 6:=======================================>                   (2 + 1) / 3]\r"
     ]
    },
    {
     "name": "stdout",
     "output_type": "stream",
     "text": [
      "+-------+------------------+--------------------+-----------+\n",
      "|summary|           emotion|              pixels|      Usage|\n",
      "+-------+------------------+--------------------+-----------+\n",
      "|  count|             35887|               35887|      35887|\n",
      "|   mean|3.3232646919497313|                null|       null|\n",
      "| stddev|1.8738187592999593|                null|       null|\n",
      "|    min|                 0|0 0 0 0 0 0 0 0 0...|PrivateTest|\n",
      "|    max|                 6|99 99 99 99 101 1...|   Training|\n",
      "+-------+------------------+--------------------+-----------+\n",
      "\n"
     ]
    },
    {
     "name": "stderr",
     "output_type": "stream",
     "text": [
      "\r",
      "                                                                                \r"
     ]
    }
   ],
   "source": [
    "df.describe().show()"
   ]
  },
  {
   "cell_type": "code",
   "execution_count": 9,
   "id": "2233efde",
   "metadata": {},
   "outputs": [
    {
     "data": {
      "text/plain": [
       "['emotion', 'pixels', 'Usage']"
      ]
     },
     "execution_count": 9,
     "metadata": {},
     "output_type": "execute_result"
    }
   ],
   "source": [
    "df.columns"
   ]
  },
  {
   "cell_type": "code",
   "execution_count": 24,
   "id": "26c6d2cb",
   "metadata": {},
   "outputs": [
    {
     "name": "stdout",
     "output_type": "stream",
     "text": [
      "+-----------+\n",
      "|      Usage|\n",
      "+-----------+\n",
      "|   Training|\n",
      "| PublicTest|\n",
      "|PrivateTest|\n",
      "+-----------+\n",
      "\n"
     ]
    }
   ],
   "source": [
    "uniqe_usages = df.select(\"Usage\").distinct()\n",
    "uniqe_usages.show()"
   ]
  },
  {
   "cell_type": "code",
   "execution_count": 42,
   "id": "fd2c3600",
   "metadata": {},
   "outputs": [],
   "source": [
    "from pyspark.sql.functions import rand, lit\n",
    "random_row = df.orderBy(rand()).limit(1)\n",
    "first_image = random_row.select(\"pixels\").first()[0]\n"
   ]
  },
  {
   "cell_type": "code",
   "execution_count": 43,
   "id": "d01309a6",
   "metadata": {},
   "outputs": [],
   "source": [
    "import numpy as np\n",
    "pixels = [int(pixel) for pixel in first_image.split()]"
   ]
  },
  {
   "cell_type": "code",
   "execution_count": 44,
   "id": "6deb7492",
   "metadata": {},
   "outputs": [
    {
     "data": {
      "image/png": "[encoded data removed]",
      "text/plain": [
       "<Figure size 432x288 with 1 Axes>"
      ]
     },
     "metadata": {
      "needs_background": "light"
     },
     "output_type": "display_data"
    }
   ],
   "source": [
    "import numpy as np\n",
    "import matplotlib.pyplot as plt\n",
    "\n",
    "image = np.array(pixels, dtype=np.uint8).reshape(48,48)\n",
    "\n",
    "plt.imshow(image, cmap=\"gray\")\n",
    "plt.show()"
   ]
  },
  {
   "cell_type": "code",
   "execution_count": null,
   "id": "625691e2",
   "metadata": {},
   "outputs": [],
   "source": []
  }
 ],
 "metadata": {
  "kernelspec": {
   "display_name": "Python 3 (ipykernel)",
   "language": "python",
   "name": "python3"
  },
  "language_info": {
   "codemirror_mode": {
    "name": "ipython",
    "version": 3
   },
   "file_extension": ".py",
   "mimetype": "text/x-python",
   "name": "python",
   "nbconvert_exporter": "python",
   "pygments_lexer": "ipython3",
   "version": "3.10.12"
  }
 },
 "nbformat": 4,
 "nbformat_minor": 5
}
